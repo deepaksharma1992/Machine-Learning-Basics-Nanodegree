{
 "cells": [
  {
   "cell_type": "markdown",
   "metadata": {},
   "source": [
    "# Breast Cancer Data"
   ]
  },
  {
   "cell_type": "code",
   "execution_count": 1,
   "metadata": {},
   "outputs": [],
   "source": [
    "import matplotlib.pyplot as plt\n",
    "from sklearn.datasets import load_breast_cancer\n",
    "from sklearn.model_selection import train_test_split\n",
    "from sklearn.model_selection import cross_val_score\n",
    "import numpy as np"
   ]
  },
  {
   "cell_type": "code",
   "execution_count": 2,
   "metadata": {},
   "outputs": [
    {
     "name": "stdout",
     "output_type": "stream",
     "text": [
      "(569L, 30L)\n",
      "(569L,)\n"
     ]
    }
   ],
   "source": [
    "cancer_data=load_breast_cancer()\n",
    "X=cancer_data.data\n",
    "y=cancer_data.target\n",
    "\n",
    "print X.shape\n",
    "print y.shape\n",
    "X_train,X_test,y_train,y_test=train_test_split(X,y)"
   ]
  },
  {
   "cell_type": "markdown",
   "metadata": {},
   "source": [
    "# Using K nearest neighbours "
   ]
  },
  {
   "cell_type": "code",
   "execution_count": 3,
   "metadata": {},
   "outputs": [
    {
     "name": "stdout",
     "output_type": "stream",
     "text": [
      "0.965034965035\n",
      "0.93896713615\n",
      "(143L, 30L)\n",
      "(143L,)\n",
      "[ 0.9137931   0.87931034  0.89473684  0.96491228  0.94736842  0.92982456\n",
      "  0.96491228  0.92857143  0.91071429  0.96428571]\n",
      "0.929842926281\n"
     ]
    }
   ],
   "source": [
    "from sklearn.neighbors import KNeighborsClassifier\n",
    "k_clf=KNeighborsClassifier(n_neighbors=5).fit(X_train,y_train)\n",
    "\n",
    "k_clf.predict(X_test)\n",
    "\n",
    "print k_clf.score(X_test,y_test)\n",
    "print k_clf.score(X_train,y_train)\n",
    "\n",
    "\n",
    "print X_test.shape\n",
    "print y_test.shape\n",
    "\n",
    "scores=cross_val_score(k_clf,X,y,cv=10)\n",
    "print scores\n",
    "print np.mean(scores)"
   ]
  },
  {
   "cell_type": "markdown",
   "metadata": {},
   "source": [
    "#    # Logistic Classification"
   ]
  },
  {
   "cell_type": "code",
   "execution_count": 4,
   "metadata": {},
   "outputs": [
    {
     "name": "stdout",
     "output_type": "stream",
     "text": [
      "0.965034965035\n",
      "0.953051643192\n"
     ]
    }
   ],
   "source": [
    "from sklearn.linear_model import LogisticRegression\n",
    "lr_clf=LogisticRegression()\n",
    "lr_clf.fit(X_train,y_train)\n",
    "lr_clf.predict(X_test)\n",
    "print lr_clf.score(X_test,y_test)\n",
    "print lr_clf.score(X_train,y_train)\n",
    "\n"
   ]
  },
  {
   "cell_type": "markdown",
   "metadata": {},
   "source": [
    "# Linear SVM"
   ]
  },
  {
   "cell_type": "code",
   "execution_count": 5,
   "metadata": {},
   "outputs": [
    {
     "name": "stdout",
     "output_type": "stream",
     "text": [
      "0.915492957746\n",
      "0.944055944056\n"
     ]
    },
    {
     "data": {
      "image/png": "[encoded data removed]",
      "text/plain": [
       "<matplotlib.figure.Figure at 0x70d1240>"
      ]
     },
     "metadata": {},
     "output_type": "display_data"
    }
   ],
   "source": [
    "from sklearn.svm import LinearSVC\n",
    "svc_clf=LinearSVC()\n",
    "svc_clf.fit(X_train,y_train)\n",
    "svc_clf.predict(X_test)\n",
    "print svc_clf.score(X_train,y_train)\n",
    "print svc_clf.score(X_test,y_test)\n",
    "plt.plot(X_train.min(axis=0), 'o', label=\"min\")\n",
    "plt.plot(X_train.max(axis=0), 'o', label=\"max\")\n",
    "plt.legend(loc=\"best\")\n",
    "plt.yscale(\"log\")\n",
    "plt.show()"
   ]
  },
  {
   "cell_type": "markdown",
   "metadata": {},
   "source": [
    "# Decision Tree"
   ]
  },
  {
   "cell_type": "code",
   "execution_count": 6,
   "metadata": {},
   "outputs": [
    {
     "name": "stdout",
     "output_type": "stream",
     "text": [
      "0.974178403756\n",
      "0.944055944056\n"
     ]
    }
   ],
   "source": [
    "from sklearn.tree import DecisionTreeClassifier\n",
    "dt_clf=DecisionTreeClassifier(max_depth=3)\n",
    "dt_clf.fit(X_train,y_train)\n",
    "dt_clf.predict(X_test)\n",
    "print dt_clf.score(X_train,y_train)\n",
    "print dt_clf.score(X_test,y_test)\n"
   ]
  },
  {
   "cell_type": "markdown",
   "metadata": {},
   "source": [
    "# Gradient Boosting Classifier"
   ]
  },
  {
   "cell_type": "code",
   "execution_count": 7,
   "metadata": {},
   "outputs": [
    {
     "name": "stdout",
     "output_type": "stream",
     "text": [
      "0.969483568075\n",
      "0.972027972028\n"
     ]
    }
   ],
   "source": [
    "from sklearn.ensemble import GradientBoostingClassifier\n",
    "gb_clf=GradientBoostingClassifier(learning_rate=0.01,max_depth=2)\n",
    "gb_clf.fit(X_train,y_train)\n",
    "print gb_clf.score(X_train,y_train)\n",
    "print gb_clf.score(X_test,y_test)\n"
   ]
  },
  {
   "cell_type": "markdown",
   "metadata": {},
   "source": [
    "# Naive Bayes"
   ]
  },
  {
   "cell_type": "code",
   "execution_count": 8,
   "metadata": {},
   "outputs": [
    {
     "name": "stdout",
     "output_type": "stream",
     "text": [
      "0.93661971831\n",
      "0.951048951049\n"
     ]
    }
   ],
   "source": [
    "from sklearn.naive_bayes import GaussianNB\n",
    "g_clf=GaussianNB()\n",
    "g_clf.fit(X_train,y_train)\n",
    "\n",
    "\n",
    "y_pred=g_clf.predict(X_test)\n",
    "\n",
    "print g_clf.score(X_train,y_train)\n",
    "print g_clf.score(X_test,y_test)"
   ]
  },
  {
   "cell_type": "markdown",
   "metadata": {},
   "source": [
    "# MLPClassifier(Neural Network)"
   ]
  },
  {
   "cell_type": "code",
   "execution_count": 9,
   "metadata": {},
   "outputs": [
    {
     "name": "stdout",
     "output_type": "stream",
     "text": [
      "0.887323943662\n",
      "0.916083916084\n"
     ]
    }
   ],
   "source": [
    "from sklearn.neural_network import MLPClassifier\n",
    "mlp_clf=MLPClassifier(hidden_layer_sizes=120)\n",
    "mlp_clf.fit(X_train,y_train)\n",
    "mlp_clf.predict(X_test)\n",
    "print mlp_clf.score(X_train,y_train)\n",
    "print mlp_clf.score(X_test,y_test)"
   ]
  },
  {
   "cell_type": "markdown",
   "metadata": {},
   "source": [
    "# Boston House Data"
   ]
  },
  {
   "cell_type": "code",
   "execution_count": 10,
   "metadata": {},
   "outputs": [
    {
     "data": {
      "text/plain": [
       "array(['CRIM', 'ZN', 'INDUS', 'CHAS', 'NOX', 'RM', 'AGE', 'DIS', 'RAD',\n",
       "       'TAX', 'PTRATIO', 'B', 'LSTAT'],\n",
       "      dtype='|S7')"
      ]
     },
     "execution_count": 10,
     "metadata": {},
     "output_type": "execute_result"
    }
   ],
   "source": [
    "from sklearn.datasets import load_boston\n",
    "boston_data=load_boston()\n",
    "X=boston_data.data\n",
    "y=boston_data.target\n",
    "X_train,X_test,y_train,y_test=train_test_split(X,y)\n",
    "\n",
    "\n",
    "boston_data.feature_names"
   ]
  },
  {
   "cell_type": "markdown",
   "metadata": {},
   "source": [
    "# Linear Regression"
   ]
  },
  {
   "cell_type": "code",
   "execution_count": 11,
   "metadata": {},
   "outputs": [
    {
     "name": "stdout",
     "output_type": "stream",
     "text": [
      "0.765536357788\n",
      "0.656622443391\n"
     ]
    },
    {
     "data": {
      "text/plain": [
       "array([ -1.14592184e-01,   7.08376925e-02,   6.24567170e-03,\n",
       "         3.01045767e+00,  -1.77068434e+01,   3.58439494e+00,\n",
       "         7.31690508e-03,  -1.48706091e+00,   2.88883577e-01,\n",
       "        -1.26836434e-02,  -9.08799749e-01,   8.67844404e-03,\n",
       "        -4.81922923e-01])"
      ]
     },
     "execution_count": 11,
     "metadata": {},
     "output_type": "execute_result"
    }
   ],
   "source": [
    "from sklearn.linear_model import LinearRegression\n",
    "lr=LinearRegression()\n",
    "lr.fit(X_train,y_train)\n",
    "lr.predict(X_test)\n",
    "print lr.score(X_train,y_train)\n",
    "print lr.score(X_test,y_test)\n",
    "\n",
    "lr.coef_"
   ]
  },
  {
   "cell_type": "markdown",
   "metadata": {},
   "source": [
    "# Ridge Regression"
   ]
  },
  {
   "cell_type": "code",
   "execution_count": 12,
   "metadata": {},
   "outputs": [
    {
     "name": "stdout",
     "output_type": "stream",
     "text": [
      "0.76545848365\n",
      "0.656578363983\n"
     ]
    },
    {
     "data": {
      "text/plain": [
       "array([ -1.14232785e-01,   7.10398786e-02,   3.23529227e-05,\n",
       "         2.99009945e+00,  -1.62372394e+01,   3.59444753e+00,\n",
       "         5.81899736e-03,  -1.46822981e+00,   2.85296758e-01,\n",
       "        -1.27556317e-02,  -8.93623098e-01,   8.74085792e-03,\n",
       "        -4.83381966e-01])"
      ]
     },
     "execution_count": 12,
     "metadata": {},
     "output_type": "execute_result"
    }
   ],
   "source": [
    "from sklearn.linear_model import Ridge\n",
    "ridge_reg=Ridge(alpha=0.1)\n",
    "ridge_reg.fit(X_train,y_train)\n",
    "ridge_reg.predict(X_test)\n",
    "print ridge_reg.score(X_train,y_train)\n",
    "print ridge_reg.score(X_test,y_test)\n",
    "\n",
    "ridge_reg.coef_"
   ]
  },
  {
   "cell_type": "markdown",
   "metadata": {},
   "source": [
    "# Lasso Regression "
   ]
  },
  {
   "cell_type": "code",
   "execution_count": 13,
   "metadata": {},
   "outputs": [
    {
     "name": "stdout",
     "output_type": "stream",
     "text": [
      "0.765072895009\n",
      "0.656381255861\n"
     ]
    }
   ],
   "source": [
    "from sklearn.linear_model import Lasso\n",
    "lasso_reg=Lasso(alpha=0.01)\n",
    "lasso_reg.fit(X_train,y_train)\n",
    "print lasso_reg.score(X_train,y_train)\n",
    "print lasso_reg.score(X_test,y_test)\n",
    "\n"
   ]
  },
  {
   "cell_type": "markdown",
   "metadata": {},
   "source": [
    "# Decision Tree Regression"
   ]
  },
  {
   "cell_type": "code",
   "execution_count": 14,
   "metadata": {},
   "outputs": [
    {
     "name": "stdout",
     "output_type": "stream",
     "text": [
      "0.930747872753\n",
      "0.69134692864\n"
     ]
    }
   ],
   "source": [
    "from sklearn.tree import DecisionTreeRegressor\n",
    "dt_reg=DecisionTreeRegressor(max_depth=5)\n",
    "dt_reg.fit(X_train,y_train)\n",
    "dt_reg.predict(X_test)\n",
    "print dt_reg.score(X_train,y_train)\n",
    "print dt_reg.score(X_test,y_test)"
   ]
  },
  {
   "cell_type": "code",
   "execution_count": null,
   "metadata": {},
   "outputs": [],
   "source": []
  }
 ],
 "metadata": {
  "kernelspec": {
   "display_name": "Python [default]",
   "language": "python",
   "name": "python2"
  },
  "language_info": {
   "codemirror_mode": {
    "name": "ipython",
    "version": 2
   },
   "file_extension": ".py",
   "mimetype": "text/x-python",
   "name": "python",
   "nbconvert_exporter": "python",
   "pygments_lexer": "ipython2",
   "version": "2.7.14"
  }
 },
 "nbformat": 4,
 "nbformat_minor": 2
}
